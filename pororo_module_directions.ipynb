{
 "cells": [
  {
   "cell_type": "markdown",
   "id": "3d7b42be",
   "metadata": {},
   "source": [
    "## 모듈 불러오기 ##"
   ]
  },
  {
   "cell_type": "code",
   "execution_count": 1,
   "id": "1fdca23c",
   "metadata": {},
   "outputs": [],
   "source": [
    "import pandas as pd # csv, xlsx 데이터를 다루기 위한 라이브러리\n",
    "import pororo_module # pororo 내 기계독해, 제로샷 분류, 광학 문자 인식 기능을 가지는 모듈"
   ]
  },
  {
   "cell_type": "markdown",
   "id": "6077a667",
   "metadata": {},
   "source": [
    "## 함수 객체 생성 ##"
   ]
  },
  {
   "cell_type": "code",
   "execution_count": 2,
   "id": "3a19f89d",
   "metadata": {},
   "outputs": [],
   "source": [
    "mrc = pororo_module.pororo_mrc\n",
    "zsl = pororo_module.pororo_zsl\n",
    "ocr = pororo_module.pororo_ocr"
   ]
  },
  {
   "cell_type": "markdown",
   "id": "9cab50f9",
   "metadata": {},
   "source": [
    "## 사용 데이터 불러오기 ##"
   ]
  },
  {
   "cell_type": "code",
   "execution_count": 6,
   "id": "41a8e3af",
   "metadata": {},
   "outputs": [],
   "source": [
    "df = pd.read_csv('./data/news_data.csv')\n",
    "ocr_df = pd.read_excel('./data/ocr_data.xlsx')"
   ]
  },
  {
   "cell_type": "code",
   "execution_count": 7,
   "id": "9d122d96",
   "metadata": {},
   "outputs": [
    {
     "data": {
      "text/html": [
       "<div>\n",
       "<style scoped>\n",
       "    .dataframe tbody tr th:only-of-type {\n",
       "        vertical-align: middle;\n",
       "    }\n",
       "\n",
       "    .dataframe tbody tr th {\n",
       "        vertical-align: top;\n",
       "    }\n",
       "\n",
       "    .dataframe thead th {\n",
       "        text-align: right;\n",
       "    }\n",
       "</style>\n",
       "<table border=\"1\" class=\"dataframe\">\n",
       "  <thead>\n",
       "    <tr style=\"text-align: right;\">\n",
       "      <th></th>\n",
       "      <th>news</th>\n",
       "    </tr>\n",
       "  </thead>\n",
       "  <tbody>\n",
       "    <tr>\n",
       "      <th>0</th>\n",
       "      <td>문화일보 오해원 2024년부터 파3 9홀도 핸디캡 적용 2024년 1월부터 달라진 ...</td>\n",
       "    </tr>\n",
       "    <tr>\n",
       "      <th>1</th>\n",
       "      <td>국민일보 정대균 유해란, 100년 독일 스포츠 용품사 ‘우벡스’와 후원 계약 작년 ...</td>\n",
       "    </tr>\n",
       "    <tr>\n",
       "      <th>2</th>\n",
       "      <td>국민일보 정대균 ‘R&amp;A 수장’마틴 슬럼버스, 올해 말 사퇴한다 R&amp;A의 최고경영자...</td>\n",
       "    </tr>\n",
       "  </tbody>\n",
       "</table>\n",
       "</div>"
      ],
      "text/plain": [
       "                                                news\n",
       "0  문화일보 오해원 2024년부터 파3 9홀도 핸디캡 적용 2024년 1월부터 달라진 ...\n",
       "1  국민일보 정대균 유해란, 100년 독일 스포츠 용품사 ‘우벡스’와 후원 계약 작년 ...\n",
       "2  국민일보 정대균 ‘R&A 수장’마틴 슬럼버스, 올해 말 사퇴한다 R&A의 최고경영자..."
      ]
     },
     "execution_count": 7,
     "metadata": {},
     "output_type": "execute_result"
    }
   ],
   "source": [
    "df.head(3)"
   ]
  },
  {
   "cell_type": "code",
   "execution_count": 8,
   "id": "4ca05630",
   "metadata": {},
   "outputs": [
    {
     "data": {
      "text/html": [
       "<div>\n",
       "<style scoped>\n",
       "    .dataframe tbody tr th:only-of-type {\n",
       "        vertical-align: middle;\n",
       "    }\n",
       "\n",
       "    .dataframe tbody tr th {\n",
       "        vertical-align: top;\n",
       "    }\n",
       "\n",
       "    .dataframe thead th {\n",
       "        text-align: right;\n",
       "    }\n",
       "</style>\n",
       "<table border=\"1\" class=\"dataframe\">\n",
       "  <thead>\n",
       "    <tr style=\"text-align: right;\">\n",
       "      <th></th>\n",
       "      <th>img_path</th>\n",
       "    </tr>\n",
       "  </thead>\n",
       "  <tbody>\n",
       "    <tr>\n",
       "      <th>0</th>\n",
       "      <td>./sample1.jpg</td>\n",
       "    </tr>\n",
       "    <tr>\n",
       "      <th>1</th>\n",
       "      <td>./sample2.jpg</td>\n",
       "    </tr>\n",
       "    <tr>\n",
       "      <th>2</th>\n",
       "      <td>./sample3.png</td>\n",
       "    </tr>\n",
       "  </tbody>\n",
       "</table>\n",
       "</div>"
      ],
      "text/plain": [
       "        img_path\n",
       "0  ./sample1.jpg\n",
       "1  ./sample2.jpg\n",
       "2  ./sample3.png"
      ]
     },
     "execution_count": 8,
     "metadata": {},
     "output_type": "execute_result"
    }
   ],
   "source": [
    "ocr_df.head(3)"
   ]
  },
  {
   "cell_type": "markdown",
   "id": "0bdf662b",
   "metadata": {},
   "source": [
    "## 기계독해 모듈 사용 예시 ##\n",
    "0. 기계독해란? : 주어진 텍스트 내 사용자가 던진 질문에 대한 답을 추충해서 보여주는 기술\n",
    "1. 테이블 형테의 텍스트 데이터를 불러오기\n",
    "2. 질문 리스트 생성하기(원하는 추출 대상 부근의 서술어 및 명사에 유의하여 생성)\n",
    "3. 함수 파라미터\n",
    "    - df : 데이터 ex) df = df\n",
    "    - col_name : 텍스트 데이터 컬럼명\n",
    "    - qst_list : 질문 리스트 ex) ['기자의 이름은 무엇인가요?'...]\n",
    "    - save=False : 저장 여부 기본값 False\n",
    "    - sfname='mrc_result' : 저장시 파일 이름명 기본값 mrc_result"
   ]
  },
  {
   "cell_type": "code",
   "execution_count": 4,
   "id": "5ca6dadd",
   "metadata": {
    "scrolled": true
   },
   "outputs": [
    {
     "data": {
      "application/vnd.jupyter.widget-view+json": {
       "model_id": "3321ad33bc1145f480d308a4b892ac3b",
       "version_major": 2,
       "version_minor": 0
      },
      "text/plain": [
       "0it [00:00, ?it/s]"
      ]
     },
     "metadata": {},
     "output_type": "display_data"
    },
    {
     "data": {
      "application/vnd.jupyter.widget-view+json": {
       "model_id": "ba3eaad35db241abaf91f089012aad2b",
       "version_major": 2,
       "version_minor": 0
      },
      "text/plain": [
       "  0%|          | 0/361 [00:00<?, ?it/s]"
      ]
     },
     "metadata": {},
     "output_type": "display_data"
    },
    {
     "data": {
      "application/vnd.jupyter.widget-view+json": {
       "model_id": "c5ab604204c14e7b92d6c209513b48d9",
       "version_major": 2,
       "version_minor": 0
      },
      "text/plain": [
       "  0%|          | 0/361 [00:00<?, ?it/s]"
      ]
     },
     "metadata": {},
     "output_type": "display_data"
    },
    {
     "data": {
      "application/vnd.jupyter.widget-view+json": {
       "model_id": "afe0cc9321d64b358fb8009e6b39a585",
       "version_major": 2,
       "version_minor": 0
      },
      "text/plain": [
       "  0%|          | 0/361 [00:00<?, ?it/s]"
      ]
     },
     "metadata": {},
     "output_type": "display_data"
    },
    {
     "name": "stdout",
     "output_type": "stream",
     "text": [
      "성공 : 1083 / 실패 : 0\n"
     ]
    },
    {
     "data": {
      "text/html": [
       "<div>\n",
       "<style scoped>\n",
       "    .dataframe tbody tr th:only-of-type {\n",
       "        vertical-align: middle;\n",
       "    }\n",
       "\n",
       "    .dataframe tbody tr th {\n",
       "        vertical-align: top;\n",
       "    }\n",
       "\n",
       "    .dataframe thead th {\n",
       "        text-align: right;\n",
       "    }\n",
       "</style>\n",
       "<table border=\"1\" class=\"dataframe\">\n",
       "  <thead>\n",
       "    <tr style=\"text-align: right;\">\n",
       "      <th></th>\n",
       "      <th>news</th>\n",
       "      <th>ans1</th>\n",
       "      <th>ans2</th>\n",
       "      <th>ans3</th>\n",
       "    </tr>\n",
       "  </thead>\n",
       "  <tbody>\n",
       "    <tr>\n",
       "      <th>0</th>\n",
       "      <td>문화일보 오해원 2024년부터 파3 9홀도 핸디캡 적용 2024년 1월부터 달라진 ...</td>\n",
       "      <td>오해원</td>\n",
       "      <td>문화일보</td>\n",
       "      <td>파3</td>\n",
       "    </tr>\n",
       "    <tr>\n",
       "      <th>1</th>\n",
       "      <td>국민일보 정대균 유해란, 100년 독일 스포츠 용품사 ‘우벡스’와 후원 계약 작년 ...</td>\n",
       "      <td>정대균</td>\n",
       "      <td>국민일보</td>\n",
       "      <td></td>\n",
       "    </tr>\n",
       "    <tr>\n",
       "      <th>2</th>\n",
       "      <td>국민일보 정대균 ‘R&amp;A 수장’마틴 슬럼버스, 올해 말 사퇴한다 R&amp;A의 최고경영자...</td>\n",
       "      <td>정대균</td>\n",
       "      <td>로이터, AP통신</td>\n",
       "      <td>골프</td>\n",
       "    </tr>\n",
       "    <tr>\n",
       "      <th>3</th>\n",
       "      <td>문화일보 정세영 KBO 신임 사무총장에 박근찬 운영팀장 선임 한국야구위원회(KBO)...</td>\n",
       "      <td>정세영</td>\n",
       "      <td>문화일보</td>\n",
       "      <td></td>\n",
       "    </tr>\n",
       "    <tr>\n",
       "      <th>4</th>\n",
       "      <td>조선일보 오재용 기자 코로나 풀리자 해외로...제주 골프장 이용객 40만명 줄었다 ...</td>\n",
       "      <td>오재용 기자</td>\n",
       "      <td>조선일보</td>\n",
       "      <td>골프장 이용객이 전년보다 40만명이나 줄었다. 이용객 감소는 일본이나 동남아의 골프</td>\n",
       "    </tr>\n",
       "    <tr>\n",
       "      <th>...</th>\n",
       "      <td>...</td>\n",
       "      <td>...</td>\n",
       "      <td>...</td>\n",
       "      <td>...</td>\n",
       "    </tr>\n",
       "    <tr>\n",
       "      <th>356</th>\n",
       "      <td>서울신문 이기철 ‘돌풍’ 삼성화재 ‘2’보다 더 불안할 수가! “기로에 선 절박한 ...</td>\n",
       "      <td>서울신문 이기철</td>\n",
       "      <td>서울신문</td>\n",
       "      <td></td>\n",
       "    </tr>\n",
       "    <tr>\n",
       "      <th>357</th>\n",
       "      <td>서울신문 홍지민 우즈, 나이키 모자 27년 만에 벗는다 ‘골프 황제’ 타이거 우즈와...</td>\n",
       "      <td>홍지민</td>\n",
       "      <td>서울신문</td>\n",
       "      <td>골프의</td>\n",
       "    </tr>\n",
       "    <tr>\n",
       "      <th>358</th>\n",
       "      <td>서울신문 장형우 ‘42’ 야구하기 딱 좋은 나이 프로야구 현역 은퇴를 고민하게 되는...</td>\n",
       "      <td>서울신문</td>\n",
       "      <td>서울신문</td>\n",
       "      <td>프로야구</td>\n",
       "    </tr>\n",
       "    <tr>\n",
       "      <th>359</th>\n",
       "      <td>국민일보 윤민섭 LCK 17일 개막 우승 후보 1순위 꼽힌 팀은 T1 국내 최고 인...</td>\n",
       "      <td>윤민섭</td>\n",
       "      <td>국민일보 윤민섭 LCK 17일 개막 우승 후보 1순위 꼽힌 팀은 T1 국내 최고 인...</td>\n",
       "      <td>e스포츠</td>\n",
       "    </tr>\n",
       "    <tr>\n",
       "      <th>360</th>\n",
       "      <td>서울신문 이기철 독일 축구의 ‘전설’ 베켄바워 하늘의 축구장으로 독일 축구의 최전성...</td>\n",
       "      <td>이기철</td>\n",
       "      <td>서울신문</td>\n",
       "      <td>하늘의 축구장</td>\n",
       "    </tr>\n",
       "  </tbody>\n",
       "</table>\n",
       "<p>361 rows × 4 columns</p>\n",
       "</div>"
      ],
      "text/plain": [
       "                                                  news      ans1  \\\n",
       "0    문화일보 오해원 2024년부터 파3 9홀도 핸디캡 적용 2024년 1월부터 달라진 ...       오해원   \n",
       "1    국민일보 정대균 유해란, 100년 독일 스포츠 용품사 ‘우벡스’와 후원 계약 작년 ...       정대균   \n",
       "2    국민일보 정대균 ‘R&A 수장’마틴 슬럼버스, 올해 말 사퇴한다 R&A의 최고경영자...       정대균   \n",
       "3    문화일보 정세영 KBO 신임 사무총장에 박근찬 운영팀장 선임 한국야구위원회(KBO)...       정세영   \n",
       "4    조선일보 오재용 기자 코로나 풀리자 해외로...제주 골프장 이용객 40만명 줄었다 ...    오재용 기자   \n",
       "..                                                 ...       ...   \n",
       "356  서울신문 이기철 ‘돌풍’ 삼성화재 ‘2’보다 더 불안할 수가! “기로에 선 절박한 ...  서울신문 이기철   \n",
       "357  서울신문 홍지민 우즈, 나이키 모자 27년 만에 벗는다 ‘골프 황제’ 타이거 우즈와...       홍지민   \n",
       "358  서울신문 장형우 ‘42’ 야구하기 딱 좋은 나이 프로야구 현역 은퇴를 고민하게 되는...      서울신문   \n",
       "359  국민일보 윤민섭 LCK 17일 개막 우승 후보 1순위 꼽힌 팀은 T1 국내 최고 인...       윤민섭   \n",
       "360  서울신문 이기철 독일 축구의 ‘전설’ 베켄바워 하늘의 축구장으로 독일 축구의 최전성...       이기철   \n",
       "\n",
       "                                                  ans2  \\\n",
       "0                                                 문화일보   \n",
       "1                                                 국민일보   \n",
       "2                                            로이터, AP통신   \n",
       "3                                                 문화일보   \n",
       "4                                                 조선일보   \n",
       "..                                                 ...   \n",
       "356                                               서울신문   \n",
       "357                                               서울신문   \n",
       "358                                               서울신문   \n",
       "359  국민일보 윤민섭 LCK 17일 개막 우승 후보 1순위 꼽힌 팀은 T1 국내 최고 인...   \n",
       "360                                               서울신문   \n",
       "\n",
       "                                               ans3  \n",
       "0                                                파3  \n",
       "1                                                    \n",
       "2                                                골프  \n",
       "3                                                    \n",
       "4    골프장 이용객이 전년보다 40만명이나 줄었다. 이용객 감소는 일본이나 동남아의 골프  \n",
       "..                                              ...  \n",
       "356                                                  \n",
       "357                                             골프의  \n",
       "358                                            프로야구  \n",
       "359                                            e스포츠  \n",
       "360                                         하늘의 축구장  \n",
       "\n",
       "[361 rows x 4 columns]"
      ]
     },
     "execution_count": 4,
     "metadata": {},
     "output_type": "execute_result"
    }
   ],
   "source": [
    "qst_list = ['기자의 이름은 무엇인가요?', '언론사 이름은 무엇인가요?', '어떤 종목인가요?']\n",
    "mrc(df, 'news', qst_list, save=True)"
   ]
  },
  {
   "cell_type": "markdown",
   "id": "149f3be9",
   "metadata": {},
   "source": [
    "## 제로샷 분류 모듈 사용 예시 ##\n",
    "0. 제로샷이란? : 모델이 학습 과정에서 배우지 않은 작업을 수행하는 것, 본 모듈은 텍스트를 사용자가 지정한 분류값 리스트 중 하나로 분류함\n",
    "1. 테이블 형테의 텍스트 데이터를 불러오기\n",
    "2. 카텔고리 리스트 생성하기\n",
    "3. 함수 파라미터\n",
    "    - df : 데이터 ex) df = df\n",
    "    - col_name : 텍스트 데이터 컬럼명\n",
    "    - categories : 분류값 리스트 ex) ['축구', '야구'...]\n",
    "    - save=False : 저장 여부 기본값 False\n",
    "    - sfname='zsl_result' : 저장시 파일 이름명 기본값 zsl_result"
   ]
  },
  {
   "cell_type": "code",
   "execution_count": 5,
   "id": "ab98c76b",
   "metadata": {},
   "outputs": [
    {
     "data": {
      "application/vnd.jupyter.widget-view+json": {
       "model_id": "a2f522fc483a408fac8f4da133d018e7",
       "version_major": 2,
       "version_minor": 0
      },
      "text/plain": [
       "  0%|          | 0/361 [00:00<?, ?it/s]"
      ]
     },
     "metadata": {},
     "output_type": "display_data"
    },
    {
     "name": "stdout",
     "output_type": "stream",
     "text": [
      "성공 : 361 / 실패 : 0\n"
     ]
    },
    {
     "data": {
      "text/html": [
       "<div>\n",
       "<style scoped>\n",
       "    .dataframe tbody tr th:only-of-type {\n",
       "        vertical-align: middle;\n",
       "    }\n",
       "\n",
       "    .dataframe tbody tr th {\n",
       "        vertical-align: top;\n",
       "    }\n",
       "\n",
       "    .dataframe thead th {\n",
       "        text-align: right;\n",
       "    }\n",
       "</style>\n",
       "<table border=\"1\" class=\"dataframe\">\n",
       "  <thead>\n",
       "    <tr style=\"text-align: right;\">\n",
       "      <th></th>\n",
       "      <th>news</th>\n",
       "      <th>ans1</th>\n",
       "      <th>ans2</th>\n",
       "      <th>ans3</th>\n",
       "      <th>category</th>\n",
       "    </tr>\n",
       "  </thead>\n",
       "  <tbody>\n",
       "    <tr>\n",
       "      <th>0</th>\n",
       "      <td>문화일보 오해원 2024년부터 파3 9홀도 핸디캡 적용 2024년 1월부터 달라진 ...</td>\n",
       "      <td>오해원</td>\n",
       "      <td>문화일보</td>\n",
       "      <td>파3</td>\n",
       "      <td>골프</td>\n",
       "    </tr>\n",
       "    <tr>\n",
       "      <th>1</th>\n",
       "      <td>국민일보 정대균 유해란, 100년 독일 스포츠 용품사 ‘우벡스’와 후원 계약 작년 ...</td>\n",
       "      <td>정대균</td>\n",
       "      <td>국민일보</td>\n",
       "      <td></td>\n",
       "      <td>e스포츠</td>\n",
       "    </tr>\n",
       "    <tr>\n",
       "      <th>2</th>\n",
       "      <td>국민일보 정대균 ‘R&amp;A 수장’마틴 슬럼버스, 올해 말 사퇴한다 R&amp;A의 최고경영자...</td>\n",
       "      <td>정대균</td>\n",
       "      <td>로이터, AP통신</td>\n",
       "      <td>골프</td>\n",
       "      <td>골프</td>\n",
       "    </tr>\n",
       "    <tr>\n",
       "      <th>3</th>\n",
       "      <td>문화일보 정세영 KBO 신임 사무총장에 박근찬 운영팀장 선임 한국야구위원회(KBO)...</td>\n",
       "      <td>정세영</td>\n",
       "      <td>문화일보</td>\n",
       "      <td></td>\n",
       "      <td>야구</td>\n",
       "    </tr>\n",
       "    <tr>\n",
       "      <th>4</th>\n",
       "      <td>조선일보 오재용 기자 코로나 풀리자 해외로...제주 골프장 이용객 40만명 줄었다 ...</td>\n",
       "      <td>오재용 기자</td>\n",
       "      <td>조선일보</td>\n",
       "      <td>골프장 이용객이 전년보다 40만명이나 줄었다. 이용객 감소는 일본이나 동남아의 골프</td>\n",
       "      <td>골프</td>\n",
       "    </tr>\n",
       "    <tr>\n",
       "      <th>...</th>\n",
       "      <td>...</td>\n",
       "      <td>...</td>\n",
       "      <td>...</td>\n",
       "      <td>...</td>\n",
       "      <td>...</td>\n",
       "    </tr>\n",
       "    <tr>\n",
       "      <th>356</th>\n",
       "      <td>서울신문 이기철 ‘돌풍’ 삼성화재 ‘2’보다 더 불안할 수가! “기로에 선 절박한 ...</td>\n",
       "      <td>서울신문 이기철</td>\n",
       "      <td>서울신문</td>\n",
       "      <td></td>\n",
       "      <td>농구</td>\n",
       "    </tr>\n",
       "    <tr>\n",
       "      <th>357</th>\n",
       "      <td>서울신문 홍지민 우즈, 나이키 모자 27년 만에 벗는다 ‘골프 황제’ 타이거 우즈와...</td>\n",
       "      <td>홍지민</td>\n",
       "      <td>서울신문</td>\n",
       "      <td>골프의</td>\n",
       "      <td>골프</td>\n",
       "    </tr>\n",
       "    <tr>\n",
       "      <th>358</th>\n",
       "      <td>서울신문 장형우 ‘42’ 야구하기 딱 좋은 나이 프로야구 현역 은퇴를 고민하게 되는...</td>\n",
       "      <td>서울신문</td>\n",
       "      <td>서울신문</td>\n",
       "      <td>프로야구</td>\n",
       "      <td>야구</td>\n",
       "    </tr>\n",
       "    <tr>\n",
       "      <th>359</th>\n",
       "      <td>국민일보 윤민섭 LCK 17일 개막 우승 후보 1순위 꼽힌 팀은 T1 국내 최고 인...</td>\n",
       "      <td>윤민섭</td>\n",
       "      <td>국민일보 윤민섭 LCK 17일 개막 우승 후보 1순위 꼽힌 팀은 T1 국내 최고 인...</td>\n",
       "      <td>e스포츠</td>\n",
       "      <td>e스포츠</td>\n",
       "    </tr>\n",
       "    <tr>\n",
       "      <th>360</th>\n",
       "      <td>서울신문 이기철 독일 축구의 ‘전설’ 베켄바워 하늘의 축구장으로 독일 축구의 최전성...</td>\n",
       "      <td>이기철</td>\n",
       "      <td>서울신문</td>\n",
       "      <td>하늘의 축구장</td>\n",
       "      <td>축구</td>\n",
       "    </tr>\n",
       "  </tbody>\n",
       "</table>\n",
       "<p>361 rows × 5 columns</p>\n",
       "</div>"
      ],
      "text/plain": [
       "                                                  news      ans1  \\\n",
       "0    문화일보 오해원 2024년부터 파3 9홀도 핸디캡 적용 2024년 1월부터 달라진 ...       오해원   \n",
       "1    국민일보 정대균 유해란, 100년 독일 스포츠 용품사 ‘우벡스’와 후원 계약 작년 ...       정대균   \n",
       "2    국민일보 정대균 ‘R&A 수장’마틴 슬럼버스, 올해 말 사퇴한다 R&A의 최고경영자...       정대균   \n",
       "3    문화일보 정세영 KBO 신임 사무총장에 박근찬 운영팀장 선임 한국야구위원회(KBO)...       정세영   \n",
       "4    조선일보 오재용 기자 코로나 풀리자 해외로...제주 골프장 이용객 40만명 줄었다 ...    오재용 기자   \n",
       "..                                                 ...       ...   \n",
       "356  서울신문 이기철 ‘돌풍’ 삼성화재 ‘2’보다 더 불안할 수가! “기로에 선 절박한 ...  서울신문 이기철   \n",
       "357  서울신문 홍지민 우즈, 나이키 모자 27년 만에 벗는다 ‘골프 황제’ 타이거 우즈와...       홍지민   \n",
       "358  서울신문 장형우 ‘42’ 야구하기 딱 좋은 나이 프로야구 현역 은퇴를 고민하게 되는...      서울신문   \n",
       "359  국민일보 윤민섭 LCK 17일 개막 우승 후보 1순위 꼽힌 팀은 T1 국내 최고 인...       윤민섭   \n",
       "360  서울신문 이기철 독일 축구의 ‘전설’ 베켄바워 하늘의 축구장으로 독일 축구의 최전성...       이기철   \n",
       "\n",
       "                                                  ans2  \\\n",
       "0                                                 문화일보   \n",
       "1                                                 국민일보   \n",
       "2                                            로이터, AP통신   \n",
       "3                                                 문화일보   \n",
       "4                                                 조선일보   \n",
       "..                                                 ...   \n",
       "356                                               서울신문   \n",
       "357                                               서울신문   \n",
       "358                                               서울신문   \n",
       "359  국민일보 윤민섭 LCK 17일 개막 우승 후보 1순위 꼽힌 팀은 T1 국내 최고 인...   \n",
       "360                                               서울신문   \n",
       "\n",
       "                                               ans3 category  \n",
       "0                                                파3       골프  \n",
       "1                                                       e스포츠  \n",
       "2                                                골프       골프  \n",
       "3                                                         야구  \n",
       "4    골프장 이용객이 전년보다 40만명이나 줄었다. 이용객 감소는 일본이나 동남아의 골프       골프  \n",
       "..                                              ...      ...  \n",
       "356                                                       농구  \n",
       "357                                             골프의       골프  \n",
       "358                                            프로야구       야구  \n",
       "359                                            e스포츠     e스포츠  \n",
       "360                                         하늘의 축구장       축구  \n",
       "\n",
       "[361 rows x 5 columns]"
      ]
     },
     "execution_count": 5,
     "metadata": {},
     "output_type": "execute_result"
    }
   ],
   "source": [
    "catagory_list = ['축구', '야구', '농구', '골프', 'e스포츠']\n",
    "zsl(df, col_name='news', categories=catagory_list, save=True)"
   ]
  },
  {
   "cell_type": "markdown",
   "id": "c0e3bfbc",
   "metadata": {},
   "source": [
    "## 광학 문자 인식 모듈 사용 예시\n",
    "## 제로샷 분류 모듈 사용 예시 ##\n",
    "0. 제로샷이란? : 모델이 학습 과정에서 배우지 않은 작업을 수행하는 것, 본 모듈은 텍스트를 사용자가 지정한 분류값 리스트 중 하나로 분류함\n",
    "1. 테이블 형테의 텍스트 데이터를 불러오기\n",
    "2. 카텔고리 리스트 생성하기\n",
    "3. 함수 파라미터\n",
    "    - df : 데이터 ex) df = df\n",
    "    - img_path_col : 이미지 경로 데이터 컬럼명\n",
    "    - save=False : 저장 여부 기본값 False\n",
    "    - sfname='ocr_result' : 저장시 파일 이름명 기본값 ocr_result"
   ]
  },
  {
   "cell_type": "code",
   "execution_count": 10,
   "id": "cc24bf0c",
   "metadata": {},
   "outputs": [
    {
     "data": {
      "application/vnd.jupyter.widget-view+json": {
       "model_id": "459998a2a63549be8d59a31ffeabb5d6",
       "version_major": 2,
       "version_minor": 0
      },
      "text/plain": [
       "  0%|          | 0/4 [00:00<?, ?it/s]"
      ]
     },
     "metadata": {},
     "output_type": "display_data"
    },
    {
     "name": "stderr",
     "output_type": "stream",
     "text": [
      "/home/cslee/anaconda3/envs/pororo/lib/python3.7/site-packages/torch/nn/functional.py:3384: UserWarning: Default grid_sample and affine_grid behavior has changed to align_corners=False since 1.3.0. Please specify align_corners=True if the old behavior is desired. See the documentation of grid_sample for details.\n",
      "  warnings.warn(\"Default grid_sample and affine_grid behavior has changed \"\n"
     ]
    },
    {
     "name": "stdout",
     "output_type": "stream",
     "text": [
      "성공 : 4 / 실패 : 0\n"
     ]
    },
    {
     "data": {
      "text/html": [
       "<div>\n",
       "<style scoped>\n",
       "    .dataframe tbody tr th:only-of-type {\n",
       "        vertical-align: middle;\n",
       "    }\n",
       "\n",
       "    .dataframe tbody tr th {\n",
       "        vertical-align: top;\n",
       "    }\n",
       "\n",
       "    .dataframe thead th {\n",
       "        text-align: right;\n",
       "    }\n",
       "</style>\n",
       "<table border=\"1\" class=\"dataframe\">\n",
       "  <thead>\n",
       "    <tr style=\"text-align: right;\">\n",
       "      <th></th>\n",
       "      <th>img_path</th>\n",
       "      <th>description</th>\n",
       "      <th>bounding_poly</th>\n",
       "    </tr>\n",
       "  </thead>\n",
       "  <tbody>\n",
       "    <tr>\n",
       "      <th>0</th>\n",
       "      <td>./sample1.jpg</td>\n",
       "      <td>[사나이는 사나이답게 마무리 짓는다.]</td>\n",
       "      <td>[{'description': '사나이는 사나이답게 마무리 짓는다.', 'verti...</td>\n",
       "    </tr>\n",
       "    <tr>\n",
       "      <th>1</th>\n",
       "      <td>./sample2.jpg</td>\n",
       "      <td>[각변경기관에서 대내객, 혹은 대외적 공주를 감행하기 위쳐 작성하는 문서용 의미하며...</td>\n",
       "      <td>[{'description': '각변경기관에서 대내객, 혹은 대외적 공주를 감행하기...</td>\n",
       "    </tr>\n",
       "    <tr>\n",
       "      <th>2</th>\n",
       "      <td>./sample3.png</td>\n",
       "      <td>[ChatGPT 새벽이 서서히 찾아오던 어느 날, 한 남자가 조용한 동네의 골목길을...</td>\n",
       "      <td>[{'description': 'ChatGPT 새벽이 서서히 찾아오던 어느 날, 한...</td>\n",
       "    </tr>\n",
       "    <tr>\n",
       "      <th>3</th>\n",
       "      <td>./sample4.png</td>\n",
       "      <td>[#. 별첨 11.민방위 경보 가청률 및 가청권율 분석 상세 내용', (1 분석 과...</td>\n",
       "      <td>[{'description': '#. 별첨 11.민방위 경보 가청률 및 가청권율 분...</td>\n",
       "    </tr>\n",
       "  </tbody>\n",
       "</table>\n",
       "</div>"
      ],
      "text/plain": [
       "        img_path                                        description  \\\n",
       "0  ./sample1.jpg                              [사나이는 사나이답게 마무리 짓는다.]   \n",
       "1  ./sample2.jpg  [각변경기관에서 대내객, 혹은 대외적 공주를 감행하기 위쳐 작성하는 문서용 의미하며...   \n",
       "2  ./sample3.png  [ChatGPT 새벽이 서서히 찾아오던 어느 날, 한 남자가 조용한 동네의 골목길을...   \n",
       "3  ./sample4.png  [#. 별첨 11.민방위 경보 가청률 및 가청권율 분석 상세 내용', (1 분석 과...   \n",
       "\n",
       "                                       bounding_poly  \n",
       "0  [{'description': '사나이는 사나이답게 마무리 짓는다.', 'verti...  \n",
       "1  [{'description': '각변경기관에서 대내객, 혹은 대외적 공주를 감행하기...  \n",
       "2  [{'description': 'ChatGPT 새벽이 서서히 찾아오던 어느 날, 한...  \n",
       "3  [{'description': '#. 별첨 11.민방위 경보 가청률 및 가청권율 분...  "
      ]
     },
     "execution_count": 10,
     "metadata": {},
     "output_type": "execute_result"
    }
   ],
   "source": [
    "ocr(df=ocr_df, img_path_col='img_path', save=True)"
   ]
  }
 ],
 "metadata": {
  "kernelspec": {
   "display_name": "pororo_kernel",
   "language": "python",
   "name": "pororo"
  },
  "language_info": {
   "codemirror_mode": {
    "name": "ipython",
    "version": 3
   },
   "file_extension": ".py",
   "mimetype": "text/x-python",
   "name": "python",
   "nbconvert_exporter": "python",
   "pygments_lexer": "ipython3",
   "version": "3.7.16"
  }
 },
 "nbformat": 4,
 "nbformat_minor": 5
}
